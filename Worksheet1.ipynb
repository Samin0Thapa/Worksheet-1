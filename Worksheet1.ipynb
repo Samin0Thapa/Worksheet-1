{
  "nbformat": 4,
  "nbformat_minor": 0,
  "metadata": {
    "colab": {
      "provenance": []
    },
    "kernelspec": {
      "name": "python3",
      "display_name": "Python 3"
    },
    "language_info": {
      "name": "python"
    }
  },
  "cells": [
    {
      "cell_type": "code",
      "source": [
        "#Name:Samin Thapa\n",
        "#Student ID:2408644\n",
        "#Problem 1\n",
        "#Task1\n",
        "import numpy as np\n",
        "array = np.empty((2,2))\n",
        "print(array)"
      ],
      "metadata": {
        "colab": {
          "base_uri": "https://localhost:8080/"
        },
        "id": "2ZuFm1ZMYU6I",
        "outputId": "5254ad09-67a5-4683-dcb1-2098a625d6e0"
      },
      "execution_count": null,
      "outputs": [
        {
          "output_type": "stream",
          "name": "stdout",
          "text": [
            "[[6.71893515e-310 0.00000000e+000]\n",
            " [6.71789574e-310 6.71789574e-310]]\n"
          ]
        }
      ]
    },
    {
      "cell_type": "code",
      "source": [
        "#Task2\n",
        "array = np.ones((4,2))\n",
        "print(array)"
      ],
      "metadata": {
        "colab": {
          "base_uri": "https://localhost:8080/"
        },
        "id": "odPx5H5PZyVv",
        "outputId": "5dcc031f-48ca-4305-f513-9e4aa5f5c1ac"
      },
      "execution_count": null,
      "outputs": [
        {
          "output_type": "stream",
          "name": "stdout",
          "text": [
            "[[1. 1.]\n",
            " [1. 1.]\n",
            " [1. 1.]\n",
            " [1. 1.]]\n"
          ]
        }
      ]
    },
    {
      "cell_type": "code",
      "source": [
        "#Task3\n",
        "fill_value = 10\n",
        "array = np.full((3,3), fill_value)\n",
        "print(array)"
      ],
      "metadata": {
        "colab": {
          "base_uri": "https://localhost:8080/"
        },
        "id": "IsBQf8FObFhK",
        "outputId": "c1178672-27ef-459d-e7f6-3f52ff27ada0"
      },
      "execution_count": null,
      "outputs": [
        {
          "output_type": "stream",
          "name": "stdout",
          "text": [
            "[[10 10 10]\n",
            " [10 10 10]\n",
            " [10 10 10]]\n"
          ]
        }
      ]
    },
    {
      "cell_type": "code",
      "source": [
        "#Task4\n",
        "array = np.array([[1,2,3],[3,2,1]])\n",
        "zeros_like = np.zeros_like(array)\n",
        "print(zeros_like)\n"
      ],
      "metadata": {
        "colab": {
          "base_uri": "https://localhost:8080/"
        },
        "id": "poxKXr_Ib3eE",
        "outputId": "d4c8a055-00d1-4f03-a527-2a729214d0e6"
      },
      "execution_count": null,
      "outputs": [
        {
          "output_type": "stream",
          "name": "stdout",
          "text": [
            "[[0 0 0]\n",
            " [0 0 0]]\n"
          ]
        }
      ]
    },
    {
      "cell_type": "code",
      "source": [
        "#Task5\n",
        "ones_like = np.ones_like(array)\n",
        "print(ones_like)"
      ],
      "metadata": {
        "colab": {
          "base_uri": "https://localhost:8080/"
        },
        "id": "K_d2-Vqnc1En",
        "outputId": "9168bfbb-e85b-4b8b-e8a2-5ed977988e76"
      },
      "execution_count": null,
      "outputs": [
        {
          "output_type": "stream",
          "name": "stdout",
          "text": [
            "[[1 1 1]\n",
            " [1 1 1]]\n"
          ]
        }
      ]
    },
    {
      "cell_type": "code",
      "source": [
        "#Task6\n",
        "new_list = [1,2,3,4]\n",
        "np_array  = np.array(new_list)\n",
        "print(np_array)\n"
      ],
      "metadata": {
        "colab": {
          "base_uri": "https://localhost:8080/"
        },
        "id": "9dYWlV2vdgPe",
        "outputId": "c36552fb-231b-4595-d27b-b3128888d361"
      },
      "execution_count": null,
      "outputs": [
        {
          "output_type": "stream",
          "name": "stdout",
          "text": [
            "[1 2 3 4]\n"
          ]
        }
      ]
    },
    {
      "cell_type": "code",
      "source": [
        "#Problem 2\n",
        "#Task1\n",
        "array = np.arange(10 ,49)\n",
        "print(array)"
      ],
      "metadata": {
        "colab": {
          "base_uri": "https://localhost:8080/"
        },
        "id": "oRgdGRwZeKHd",
        "outputId": "cca1d3d4-d0b4-43fe-d869-144bd9c20824"
      },
      "execution_count": null,
      "outputs": [
        {
          "output_type": "stream",
          "name": "stdout",
          "text": [
            "[10 11 12 13 14 15 16 17 18 19 20 21 22 23 24 25 26 27 28 29 30 31 32 33\n",
            " 34 35 36 37 38 39 40 41 42 43 44 45 46 47 48]\n"
          ]
        }
      ]
    },
    {
      "cell_type": "code",
      "source": [
        "#Task2\n",
        "array = np.random.randint(0,8,size=(9))\n",
        "second_array = array.reshape(3,3)\n",
        "print(second_array)"
      ],
      "metadata": {
        "colab": {
          "base_uri": "https://localhost:8080/"
        },
        "id": "RVz2Z57bgPeu",
        "outputId": "2505723f-6963-40fc-d305-0bcb369399d5"
      },
      "execution_count": null,
      "outputs": [
        {
          "output_type": "stream",
          "name": "stdout",
          "text": [
            "[[2 1 0]\n",
            " [6 2 5]\n",
            " [1 6 5]]\n"
          ]
        }
      ]
    },
    {
      "cell_type": "code",
      "source": [
        "#Task3\n",
        "array = np.eye(3)\n",
        "print(array)"
      ],
      "metadata": {
        "colab": {
          "base_uri": "https://localhost:8080/"
        },
        "id": "hS2AoYaHgxxQ",
        "outputId": "a9ed9945-1ce6-4ac1-9897-361b518d8478"
      },
      "execution_count": null,
      "outputs": [
        {
          "output_type": "stream",
          "name": "stdout",
          "text": [
            "[[1. 0. 0.]\n",
            " [0. 1. 0.]\n",
            " [0. 0. 1.]]\n"
          ]
        }
      ]
    },
    {
      "cell_type": "code",
      "source": [
        "#Task4\n",
        "array = np.random.random(30)\n",
        "mean = array.mean()\n",
        "print(\"The random array is \\n\",array)\n",
        "print(\"Mean is\",mean)"
      ],
      "metadata": {
        "colab": {
          "base_uri": "https://localhost:8080/"
        },
        "id": "nPkZ41PFhO84",
        "outputId": "8777be46-ca46-4766-820b-f319af537b0d"
      },
      "execution_count": null,
      "outputs": [
        {
          "output_type": "stream",
          "name": "stdout",
          "text": [
            "The random array is \n",
            " [0.91324095 0.12653248 0.1289755  0.63000172 0.36338882 0.55165794\n",
            " 0.31197142 0.42211361 0.89259894 0.6451595  0.12481869 0.16747183\n",
            " 0.27537566 0.64920577 0.62016393 0.86698658 0.35500863 0.38362486\n",
            " 0.5396206  0.01058672 0.99579343 0.80714795 0.71573526 0.69772826\n",
            " 0.75578462 0.34232222 0.60977973 0.62322238 0.15011849 0.74721969]\n",
            "Mean is 0.5141118725891203\n"
          ]
        }
      ]
    },
    {
      "cell_type": "code",
      "source": [
        "#Task5\n",
        "array = np.random.randint(0,100,size=(10,10))\n",
        "print(array)\n",
        "\n",
        "min = np.min(array)\n",
        "max = np.max(array)\n",
        "\n",
        "print(\"Maximjm value is\",array.max())\n",
        "print(\"Minimum value is\",array.min())"
      ],
      "metadata": {
        "colab": {
          "base_uri": "https://localhost:8080/"
        },
        "id": "hsgUVRxuhmgV",
        "outputId": "cc067407-0906-41ef-f9ce-cf7c8ee712d0"
      },
      "execution_count": null,
      "outputs": [
        {
          "output_type": "stream",
          "name": "stdout",
          "text": [
            "[[50 24 20 91 67 30 59 15 31 96]\n",
            " [55 80 18 56 84 41  1 27 19 73]\n",
            " [18 24 85 73 46 80 92 81 69 94]\n",
            " [81 61  9 41 69 27 92 35 68 33]\n",
            " [96 61 58 80 20  1  9 40 35 25]\n",
            " [36 85 11 94 27 14 74 90 29 47]\n",
            " [51 19 96 69 54 65 31 90 76 88]\n",
            " [ 8 54  8 87 78 40 33 17 45 15]\n",
            " [46 57 69 34 10 28 62 68 86 20]\n",
            " [64 43 70 94 57  9 77 94 18 25]]\n",
            "Maximjm value is 96\n",
            "Minimum value is 1\n"
          ]
        }
      ]
    },
    {
      "cell_type": "code",
      "source": [
        "#Task6\n",
        "array = np.zeros(10)\n",
        "array[-6] = 1\n",
        "print(array)"
      ],
      "metadata": {
        "colab": {
          "base_uri": "https://localhost:8080/"
        },
        "id": "LqnmV8PIjjPP",
        "outputId": "f35a41a4-3d35-442d-c6e8-0070154faf17"
      },
      "execution_count": null,
      "outputs": [
        {
          "output_type": "stream",
          "name": "stdout",
          "text": [
            "[0. 0. 0. 0. 1. 0. 0. 0. 0. 0.]\n"
          ]
        }
      ]
    },
    {
      "cell_type": "code",
      "source": [
        "#Task7\n",
        "arr = [1,2,0,0,4,0]\n",
        "reversed_array = arr[::-1]\n",
        "print(reversed_array)"
      ],
      "metadata": {
        "colab": {
          "base_uri": "https://localhost:8080/"
        },
        "id": "A49nTL79lEZi",
        "outputId": "315a839c-7f71-4c79-caf6-9b7f104c5fa8"
      },
      "execution_count": null,
      "outputs": [
        {
          "output_type": "stream",
          "name": "stdout",
          "text": [
            "[0, 4, 0, 0, 2, 1]\n"
          ]
        }
      ]
    },
    {
      "cell_type": "code",
      "source": [
        "#Task8\n",
        "import numpy as np\n",
        "\n",
        "rows = 5\n",
        "cols = 4\n",
        "arr = np.zeros((rows, cols))\n",
        "\n",
        "arr[0, :] = 1\n",
        "arr[-1, :] = 1\n",
        "arr[:, 0] = 1\n",
        "arr[:, -1] = 1\n",
        "\n",
        "print(arr)"
      ],
      "metadata": {
        "id": "-wJzL2w4lVoZ",
        "colab": {
          "base_uri": "https://localhost:8080/"
        },
        "outputId": "1180b02e-4bbd-4afd-e27c-1126a056d2a4"
      },
      "execution_count": 18,
      "outputs": [
        {
          "output_type": "stream",
          "name": "stdout",
          "text": [
            "[[1. 1. 1. 1.]\n",
            " [1. 0. 0. 1.]\n",
            " [1. 0. 0. 1.]\n",
            " [1. 0. 0. 1.]\n",
            " [1. 1. 1. 1.]]\n"
          ]
        }
      ]
    },
    {
      "cell_type": "code",
      "source": [
        "#Task9\n",
        "import numpy as np\n",
        "\n",
        "arr = np.zeros((8,8))\n",
        "for i in range(8):\n",
        "    for j in range(8):\n",
        "        if (i + j) % 2 == 0:\n",
        "            arr[i, j] = 0\n",
        "        else:\n",
        "            arr[i, j] = 1\n",
        "print(arr)"
      ],
      "metadata": {
        "colab": {
          "base_uri": "https://localhost:8080/"
        },
        "id": "JyD18smVNazM",
        "outputId": "7de3a756-9dc9-4d50-fc00-444175ef3e53"
      },
      "execution_count": null,
      "outputs": [
        {
          "output_type": "stream",
          "name": "stdout",
          "text": [
            "[[0. 1. 0. 1. 0. 1. 0. 1.]\n",
            " [1. 0. 1. 0. 1. 0. 1. 0.]\n",
            " [0. 1. 0. 1. 0. 1. 0. 1.]\n",
            " [1. 0. 1. 0. 1. 0. 1. 0.]\n",
            " [0. 1. 0. 1. 0. 1. 0. 1.]\n",
            " [1. 0. 1. 0. 1. 0. 1. 0.]\n",
            " [0. 1. 0. 1. 0. 1. 0. 1.]\n",
            " [1. 0. 1. 0. 1. 0. 1. 0.]]\n"
          ]
        }
      ]
    },
    {
      "cell_type": "code",
      "source": [
        "#Problem 3\n",
        "#Task1\n",
        "x = np.array([[1,2],[3,5]])\n",
        "y = np.array([[5,6],[7,8]])\n",
        "v = np.array([9,10])\n",
        "w = np.array([11,12]);\n",
        "\n",
        "print(\"Addition of x and y is:\\n\", np.add(x,y))\n",
        "\n",
        "print(\"Addition of v and w is:\\n\", np.add(v,w))"
      ],
      "metadata": {
        "id": "7Y2oX__JOqtW",
        "colab": {
          "base_uri": "https://localhost:8080/"
        },
        "outputId": "a23c6165-8cdd-44f8-b0a2-a775ba4d9054"
      },
      "execution_count": 9,
      "outputs": [
        {
          "output_type": "stream",
          "name": "stdout",
          "text": [
            "Addition of x and y is:\n",
            " [[ 6  8]\n",
            " [10 13]]\n",
            "Addition of v and w is:\n",
            " [20 22]\n"
          ]
        }
      ]
    },
    {
      "cell_type": "code",
      "source": [
        "#Task2\n",
        "print(\"Subtraction of x and y:\\n\", np.subtract(x,y))\n",
        "\n",
        "print(\"Subtraction of v and w:\\n\", np.subtract(v,w))"
      ],
      "metadata": {
        "colab": {
          "base_uri": "https://localhost:8080/"
        },
        "id": "0jQEYLapmqYv",
        "outputId": "f6bc6eb5-c8ca-4e26-92ff-c5ec3e49541f"
      },
      "execution_count": 10,
      "outputs": [
        {
          "output_type": "stream",
          "name": "stdout",
          "text": [
            "Subtraction of x and y:\n",
            " [[-4 -4]\n",
            " [-4 -3]]\n",
            "Subtraction of v and w:\n",
            " [-2 -2]\n"
          ]
        }
      ]
    },
    {
      "cell_type": "code",
      "source": [
        "#Task3\n",
        "print(\"Product of x with 2 is:\\n\", np.multiply(x,2))\n",
        "print(\"Product of y with 8 is:\\n\", np.multiply(y,8))\n",
        "print(\"Product of v with 3 is:\", np.multiply(v,3))\n",
        "print(\"Produc of w with 4 is:\", np.multiply(w,4))"
      ],
      "metadata": {
        "colab": {
          "base_uri": "https://localhost:8080/"
        },
        "id": "ym44F7a2mwO_",
        "outputId": "6ee925c4-2363-46c4-83e3-f0f9685c3b6a"
      },
      "execution_count": 13,
      "outputs": [
        {
          "output_type": "stream",
          "name": "stdout",
          "text": [
            "Product of x with 2 is:\n",
            " [[ 2  4]\n",
            " [ 6 10]]\n",
            "Product of y with 8 is:\n",
            " [[40 48]\n",
            " [56 64]]\n",
            "Product of v with 3 is: [27 30]\n",
            "Produc of w with 4 is: [44 48]\n"
          ]
        }
      ]
    },
    {
      "cell_type": "code",
      "source": [
        "#Task4\n",
        "print(\"Square of elements in x is:\\n\", np.square(x))\n",
        "print(\"Square of elements in y is:\\n\", np.square(y))\n",
        "print(\"Square of elements in v is:\\n\", np.square(v))\n",
        "print(\"Square of elements in w is:\\n\", np.square(w))"
      ],
      "metadata": {
        "colab": {
          "base_uri": "https://localhost:8080/"
        },
        "id": "Wp5rKtubnGYH",
        "outputId": "4eee671a-b663-400d-da9d-8c53d8e5772c"
      },
      "execution_count": 14,
      "outputs": [
        {
          "output_type": "stream",
          "name": "stdout",
          "text": [
            "Square of elements in x is:\n",
            " [[ 1  4]\n",
            " [ 9 25]]\n",
            "Square of elements in y is:\n",
            " [[25 36]\n",
            " [49 64]]\n",
            "Square of elements in v is:\n",
            " [ 81 100]\n",
            "Square of elements in w is:\n",
            " [121 144]\n"
          ]
        }
      ]
    },
    {
      "cell_type": "code",
      "source": [
        "#Task5\n",
        "dot_v_w = np.dot(v, w)\n",
        "print(\"Dot product of v and w:\", dot_v_w)\n",
        "\n",
        "dot_x_v = np.dot(x, v)\n",
        "print(\"Dot product of x and v:\\n\", dot_x_v)\n",
        "\n",
        "dot_x_y = np.dot(x, y)\n",
        "print(\"Dot product of x and y:\\n\", dot_x_y)"
      ],
      "metadata": {
        "colab": {
          "base_uri": "https://localhost:8080/"
        },
        "id": "PQLjOlaTndz-",
        "outputId": "b662a199-4b16-4fbb-a902-b028712a7485"
      },
      "execution_count": 15,
      "outputs": [
        {
          "output_type": "stream",
          "name": "stdout",
          "text": [
            "Dot product of v and w: 219\n",
            "Dot product of x and v:\n",
            " [29 77]\n",
            "Dot product of x and y:\n",
            " [[19 22]\n",
            " [50 58]]\n"
          ]
        }
      ]
    },
    {
      "cell_type": "code",
      "source": [
        "#Task6\n",
        "concatOne = np.concatenate((x, y), axis=0)\n",
        "print(\"Concatenation of x and y along rows:\\n\", concatOne)\n",
        "\n",
        "concatTwo = np.vstack((v, w)).T\n",
        "print(\"Concatenation of v and w along columns:\\n\", concatTwo)"
      ],
      "metadata": {
        "colab": {
          "base_uri": "https://localhost:8080/"
        },
        "id": "6HGjvk01nmJr",
        "outputId": "c6e85bd2-f1d5-4efa-8e81-e3392c9b269d"
      },
      "execution_count": 16,
      "outputs": [
        {
          "output_type": "stream",
          "name": "stdout",
          "text": [
            "Concatenation of x and y along rows:\n",
            " [[1 2]\n",
            " [3 5]\n",
            " [5 6]\n",
            " [7 8]]\n",
            "Concatenation of v and w along columns:\n",
            " [[ 9 11]\n",
            " [10 12]]\n"
          ]
        }
      ]
    },
    {
      "cell_type": "code",
      "source": [
        "#Task7\n",
        "try:\n",
        "    concat_x_v = np.concatenate((x, v), axis=0)\n",
        "    print(\"Concatenation of x and v:\\n\", concat_x_v)\n",
        "except ValueError as e:\n",
        "    print(\"Error:\", e)"
      ],
      "metadata": {
        "colab": {
          "base_uri": "https://localhost:8080/"
        },
        "id": "6VzohDf7nxO-",
        "outputId": "220f58d6-20c0-440f-97f5-ed3a8b9c5ec7"
      },
      "execution_count": 17,
      "outputs": [
        {
          "output_type": "stream",
          "name": "stdout",
          "text": [
            "Error: all the input arrays must have same number of dimensions, but the array at index 0 has 2 dimension(s) and the array at index 1 has 1 dimension(s)\n"
          ]
        }
      ]
    },
    {
      "cell_type": "code",
      "source": [
        "#Problem 4\n",
        "#Task1\n",
        "import numpy as np\n",
        "\n",
        "A = np.array([[3, 4], [7, 8]])\n",
        "B = np.array([[5, 3], [2, 1]])\n",
        "\n",
        "# Number 1: Proving A * A^-1 = I\n",
        "A_inv = np.linalg.inv(A)\n",
        "identity_matrix = np.dot(A, A_inv)\n",
        "print(\"A * A^-1:\\n\", identity_matrix)\n",
        "\n",
        "# Number 2: Proving AB != BA\n",
        "AB = np.dot(A, B)\n",
        "BA = np.dot(B, A)\n",
        "print(\"AB:\\n\", AB)\n",
        "print(\"BA:\\n\", BA)\n",
        "\n",
        "are_equal = np.array_equal(AB, BA)\n",
        "print(\"Is AB equal to BA?\", are_equal)\n",
        "\n",
        "# Number 3: Proving (AB)^T = B^T * A^T\n",
        "AB_transpose = np.transpose(AB)\n",
        "B_transpose_A_transpose = np.dot(np.transpose(B), np.transpose(A))\n",
        "\n",
        "print(\"(AB)^T:\\n\", AB_transpose)\n",
        "print(\"B^T * A^T:\\n\", B_transpose_A_transpose)\n",
        "\n",
        "transpose_property_holds = np.array_equal(AB_transpose, B_transpose_A_transpose)\n",
        "print(\"Does (AB)^T equal B^T * A^T?\", transpose_property_holds)"
      ],
      "metadata": {
        "colab": {
          "base_uri": "https://localhost:8080/"
        },
        "id": "px3K2fqJn5ie",
        "outputId": "4a7b4969-f2be-45e6-fb8e-9829a930c6f8"
      },
      "execution_count": 19,
      "outputs": [
        {
          "output_type": "stream",
          "name": "stdout",
          "text": [
            "A * A^-1:\n",
            " [[1.00000000e+00 0.00000000e+00]\n",
            " [1.77635684e-15 1.00000000e+00]]\n",
            "AB:\n",
            " [[23 13]\n",
            " [51 29]]\n",
            "BA:\n",
            " [[36 44]\n",
            " [13 16]]\n",
            "Is AB equal to BA? False\n",
            "(AB)^T:\n",
            " [[23 51]\n",
            " [13 29]]\n",
            "B^T * A^T:\n",
            " [[23 51]\n",
            " [13 29]]\n",
            "Does (AB)^T equal B^T * A^T? True\n"
          ]
        }
      ]
    },
    {
      "cell_type": "code",
      "source": [
        "#Task2\n",
        "import numpy as np\n",
        "\n",
        "# Defining matrices A and B\n",
        "A = np.array([[2, -3, 1],\n",
        "              [1, -1, 2],\n",
        "              [3, 1, -1]])\n",
        "\n",
        "B = np.array([[-1],\n",
        "              [-3],\n",
        "              [9]])\n",
        "\n",
        "A_inv = np.linalg.inv(A)\n",
        "X = np.dot(A_inv, B)\n",
        "\n",
        "print(\"The solution for [x, y, z] is:\\n\", X)"
      ],
      "metadata": {
        "colab": {
          "base_uri": "https://localhost:8080/"
        },
        "id": "ZNpayRYupgAt",
        "outputId": "e6b68baf-d5e2-4fb3-860e-2136a7a590e7"
      },
      "execution_count": 20,
      "outputs": [
        {
          "output_type": "stream",
          "name": "stdout",
          "text": [
            "The solution for [x, y, z] is:\n",
            " [[ 2.]\n",
            " [ 1.]\n",
            " [-2.]]\n"
          ]
        }
      ]
    }
  ]
}